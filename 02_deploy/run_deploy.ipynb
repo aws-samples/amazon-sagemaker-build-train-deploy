{
 "cells": [
  {
   "cell_type": "code",
   "execution_count": null,
   "id": "092d0d79-e536-4940-aaa4-9c635fc57100",
   "metadata": {},
   "outputs": [],
   "source": [
    "# only needed if you run in custom environment\n",
    "#%pip install -r requirements.txt"
   ]
  },
  {
   "cell_type": "code",
   "execution_count": null,
   "id": "48f99c3d-58f7-4fac-a908-f23f722d6b59",
   "metadata": {},
   "outputs": [],
   "source": [
    "!python deploy.py"
   ]
  }
 ],
 "metadata": {
  "kernelspec": {
   "display_name": "Python 3 (ipykernel)",
   "language": "python",
   "name": "python3"
  },
  "language_info": {
   "codemirror_mode": {
    "name": "ipython",
    "version": 3
   },
   "file_extension": ".py",
   "mimetype": "text/x-python",
   "name": "python",
   "nbconvert_exporter": "python",
   "pygments_lexer": "ipython3",
   "version": "3.10.14"
  }
 },
 "nbformat": 4,
 "nbformat_minor": 5
}
