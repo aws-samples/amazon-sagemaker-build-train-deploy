{
 "cells": [
  {
   "cell_type": "markdown",
   "id": "053c0118-b973-4900-a357-4d508098a4d9",
   "metadata": {},
   "source": [
    "## Run Workflow using Step Decorators\n",
    "\n",
    "The code and notebook in this directory shows how we can create a complete pipeline with step decorators (see `pipeline.py`).\n",
    "Each step of the pipeline is shown under the same run in MLflow."
   ]
  },
  {
   "cell_type": "markdown",
   "id": "a01d7e95-186a-4aee-ad93-be6223b79ae9",
   "metadata": {},
   "source": [
    "Let's first install the dependencies required to run this code locally"
   ]
  },
  {
   "cell_type": "code",
   "execution_count": null,
   "id": "1f7e4b6c-f8c9-4a7a-b24f-2b3751203913",
   "metadata": {},
   "outputs": [],
   "source": [
    "%pip install -r requirements.txt"
   ]
  },
  {
   "cell_type": "markdown",
   "id": "dc6539d0-c10f-4b75-949e-4a125a7d0980",
   "metadata": {},
   "source": [
    "Lets restore the variables from the `00-start-here` notebook"
   ]
  },
  {
   "cell_type": "code",
   "execution_count": null,
   "id": "a780a112-657c-4442-9681-2de9cc601a5c",
   "metadata": {},
   "outputs": [],
   "source": [
    "%store -r \n",
    "\n",
    "%store\n",
    "\n",
    "try:\n",
    "    initialized\n",
    "except NameError:    \n",
    "    print(\"[ERROR] YOU HAVE TO RUN 00-start-here notebook   \")"
   ]
  },
  {
   "cell_type": "markdown",
   "id": "9ecc88b1-fffe-49f4-8db6-6ba813ad555d",
   "metadata": {},
   "source": [
    "Lets create a config which will be used by default for each step. \n",
    "\n",
    "Note that we define the `S3RootUri` to customize the S3 location that will be used for the artifacts"
   ]
  },
  {
   "cell_type": "code",
   "execution_count": null,
   "id": "b20f6233-a82a-48a3-b9bf-76312b5b9f4e",
   "metadata": {},
   "outputs": [],
   "source": [
    "config_yaml = f\"\"\"\n",
    "SchemaVersion: '1.0'\n",
    "SageMaker:\n",
    "  PythonSDK:\n",
    "    Modules:\n",
    "      RemoteFunction:\n",
    "        # role arn is not required if in SageMaker Notebook instance or SageMaker Studio\n",
    "        # Uncomment the following line and replace with the right execution role if in a local IDE\n",
    "        # RoleArn: <replace the role arn here>\n",
    "        S3RootUri: s3://{bucket_prefix}\n",
    "        InstanceType: ml.m5.xlarge\n",
    "        Dependencies: ./requirements.txt\n",
    "        IncludeLocalWorkDir: true\n",
    "        PreExecutionCommands:\n",
    "        - \"sudo chmod -R 777 /opt/ml/model\"\n",
    "        CustomFileFilter:\n",
    "          IgnoreNamePatterns:\n",
    "          - \"data/*\"\n",
    "          - \"models/*\"\n",
    "          - \"*.ipynb\"\n",
    "          - \"__pycache__\"\n",
    "\n",
    "\"\"\"\n",
    "\n",
    "print(config_yaml, file=open('config.yaml', 'w'))\n",
    "print(config_yaml)"
   ]
  },
  {
   "cell_type": "code",
   "execution_count": null,
   "id": "21ab9de8-a6fc-423b-b924-696498a42da1",
   "metadata": {},
   "outputs": [],
   "source": [
    "import os\n",
    "os.environ[\"MLFLOW_TRACKING_ARN\"] = mlflow_arn\n",
    "!python pipeline.py"
   ]
  },
  {
   "cell_type": "code",
   "execution_count": null,
   "id": "67d4b500-a2c3-4745-95c0-f299ab856ac4",
   "metadata": {},
   "outputs": [],
   "source": []
  }
 ],
 "metadata": {
  "kernelspec": {
   "display_name": "Python 3 (ipykernel)",
   "language": "python",
   "name": "python3"
  },
  "language_info": {
   "codemirror_mode": {
    "name": "ipython",
    "version": 3
   },
   "file_extension": ".py",
   "mimetype": "text/x-python",
   "name": "python",
   "nbconvert_exporter": "python",
   "pygments_lexer": "ipython3",
   "version": "3.10.14"
  }
 },
 "nbformat": 4,
 "nbformat_minor": 5
}
